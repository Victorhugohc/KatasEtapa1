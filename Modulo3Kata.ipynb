{
 "cells": [
  {
   "cell_type": "markdown",
   "metadata": {},
   "source": [
    "# Kata3"
   ]
  },
  {
   "cell_type": "markdown",
   "metadata": {},
   "source": [
    "## Ejercicio 1: Escribir declaraciones if, else y elif"
   ]
  },
  {
   "cell_type": "code",
   "execution_count": null,
   "metadata": {},
   "outputs": [],
   "source": [
    "velocidadAsteroide = 49\n",
    "velocidadAdvertencia = 25\n",
    "\n",
    "if velocidadAsteroide > velocidadAdvertencia:\n",
    "\n",
    "    print(\"¡El asteroide se acerca demasiado rápido!\")\n",
    "\n",
    "else:\n",
    "\n",
    "    print(\"El asteroide se acerca por debajo de la velocidad de advertencia\")"
   ]
  },
  {
   "cell_type": "code",
   "execution_count": null,
   "metadata": {},
   "outputs": [],
   "source": [
    "velocidadAsteroide = 21\n",
    "velocidadAdvertencia = 20\n",
    "\n",
    "if velocidadAsteroide < velocidadAdvertencia:\n",
    "\n",
    "    print(\"El asteroide está por debajo de la velocidad de advertencia\")\n",
    "\n",
    "elif velocidadAsteroide == velocidadAdvertencia:\n",
    "\n",
    "    print(\"El asteroide tiene la velociad necesaria para producir un rayo. Intenta buscarlo\")\n",
    "\n",
    "else:\n",
    "\n",
    "    print(\"El asteroide está por encima de la velocidad para generar un rayo. Intenta buscarlo\")"
   ]
  },
  {
   "cell_type": "markdown",
   "metadata": {},
   "source": [
    "## Ejercicio 2: Uso de operadores and y or"
   ]
  },
  {
   "cell_type": "code",
   "execution_count": null,
   "metadata": {},
   "outputs": [],
   "source": [
    "velocidadAsteroide = int(input(\"¿Cuál es la velocidad del asteroide?\"))\n",
    "dimensionAsteroide = int(input(\"¿Cuál es la dimensión del asteroide?\"))\n",
    "velocidadAdvertencia = 25\n",
    "dimensionAdvertencia = 25\n",
    "rayoLuzAdvertencia = 20\n",
    "\n",
    "print(\"Velocidad = \" + str(velocidadAsteroide), \"|\", \"Tamaño = \" + str(dimensionAsteroide))\n",
    "\n",
    "if velocidadAsteroide > velocidadAdvertencia and dimensionAsteroide > dimensionAdvertencia:\n",
    "\n",
    "    print(\"Un asteroide peligroso se acerca\")\n",
    "\n",
    "elif velocidadAsteroide >= rayoLuzAdvertencia:\n",
    "\n",
    "    print(\"Mira arriba en busca de un asteroide\")\n",
    "\n",
    "else:\n",
    "\n",
    "    print(\"No hay peligro\")"
   ]
  }
 ],
 "metadata": {
  "interpreter": {
   "hash": "e7370f93d1d0cde622a1f8e1c04877d8463912d04d973331ad4851f04de6915a"
  },
  "kernelspec": {
   "display_name": "Python 3.8.10 64-bit",
   "language": "python",
   "name": "python3"
  },
  "language_info": {
   "codemirror_mode": {
    "name": "ipython",
    "version": 3
   },
   "file_extension": ".py",
   "mimetype": "text/x-python",
   "name": "python",
   "nbconvert_exporter": "python",
   "pygments_lexer": "ipython3",
   "version": "3.8.10"
  },
  "orig_nbformat": 4
 },
 "nbformat": 4,
 "nbformat_minor": 2
}
